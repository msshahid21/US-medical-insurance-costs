{
 "cells": [
  {
   "cell_type": "markdown",
   "metadata": {},
   "source": [
    "# U.S. Medical Insurance Costs"
   ]
  },
  {
   "cell_type": "markdown",
   "metadata": {},
   "source": [
    "The purpose of this project is to investigate a U.S. medical insurance dataset for variables that are likely to affect a person's insurance costs. Additionally, each of the variables being considered will be analysed for tendencies in the dataset. Variables will also be compared with each other to determine if there is a relationship between any of them."
   ]
  },
  {
   "cell_type": "markdown",
   "metadata": {},
   "source": [
    "## Data Overview"
   ]
  },
  {
   "cell_type": "markdown",
   "metadata": {},
   "source": [
    "### Importing Dataset"
   ]
  },
  {
   "cell_type": "code",
   "execution_count": 21,
   "metadata": {},
   "outputs": [
    {
     "name": "stdout",
     "output_type": "stream",
     "text": [
      "{'age': '19', 'sex': 'female', 'bmi': '27.9', 'children': '0', 'smoker': 'yes', 'region': 'southwest', 'charges': '16884.924'}\n"
     ]
    }
   ],
   "source": [
    "import csv\n",
    "\n",
    "with open('insurance.csv', newline = '') as insurance_csv:\n",
    "    reader = csv.DictReader(insurance_csv, delimiter = ',')\n",
    "    data = list(reader)\n",
    "    \n",
    "print(data[0])"
   ]
  },
  {
   "cell_type": "markdown",
   "metadata": {},
   "source": [
    "### Data Cleaning"
   ]
  },
  {
   "cell_type": "code",
   "execution_count": 26,
   "metadata": {},
   "outputs": [
    {
     "name": "stdout",
     "output_type": "stream",
     "text": [
      "{'age': 19, 'sex': 0, 'bmi': 27.9, 'children': 0, 'smoker': 1, 'region': 'southwest', 'charges': 16884.924}\n"
     ]
    }
   ],
   "source": [
    "# Converting numerical values from string to integer and float values (age, bmi, children, charges)\n",
    "# Conditionals will be used for converting sex and smoker to int data types\n",
    "for patient in data:\n",
    "    patient['age'] = int(patient['age'])\n",
    "    patient['bmi'] = float(patient['bmi'])\n",
    "    patient['children'] = int(patient['children'])\n",
    "    patient['charges'] = float(patient['charges'])\n",
    "\n",
    "    if patient['sex'] == 'female':\n",
    "        patient['sex'] = 0\n",
    "    elif patient['sex'] == 'male':\n",
    "        patient['sex'] = 1\n",
    "    \n",
    "    if patient['smoker'] == 'no':\n",
    "        patient['smoker'] = 0\n",
    "    elif patient['smoker'] == 'yes':\n",
    "        patient['smoker'] = 1\n",
    "\n",
    "print(data[0])"
   ]
  },
  {
   "cell_type": "code",
   "execution_count": 32,
   "metadata": {},
   "outputs": [],
   "source": [
    "# Creating lists for individual variables\n",
    "age_list = [patient['age'] for patient in data]\n",
    "sex_list = [patient['sex'] for patient in data]\n",
    "bmi_list = [patient['bmi'] for patient in data]\n",
    "children_list = [patient['children'] for patient in data]\n",
    "smoker_list = [patient['smoker'] for patient in data]\n",
    "region_list = [patient['region'] for patient in data]\n",
    "charges_list = [patient['charges'] for patient in data]"
   ]
  },
  {
   "cell_type": "markdown",
   "metadata": {},
   "source": [
    "### Variables"
   ]
  },
  {
   "cell_type": "code",
   "execution_count": 18,
   "metadata": {},
   "outputs": [
    {
     "name": "stdout",
     "output_type": "stream",
     "text": [
      "Number of patients in the dataset: 1338\n",
      "Variables in the dataset: dict_keys(['age', 'sex', 'bmi', 'children', 'smoker', 'region', 'charges'])\n"
     ]
    }
   ],
   "source": [
    "print(\"Number of patients in the dataset: {}\".format(len(data)))\n",
    "print(\"Variables in the dataset: {}\".format(data[0].keys()))"
   ]
  },
  {
   "cell_type": "markdown",
   "metadata": {},
   "source": [
    "The medical insurance cost dataset contains characteristics for 1,338 patients. For each of the patients the dataset measures 7 different characteristics:\n",
    "\n",
    "- Age\n",
    "- Sex\n",
    "- BMI\n",
    "- Number of Children\n",
    "- Smoker or Non-Smoker\n",
    "- Region\n",
    "- Medical Insurance Charges\n"
   ]
  },
  {
   "cell_type": "markdown",
   "metadata": {},
   "source": [
    "Out of the 7 variables being measured the dependent variable in this project will be the medical insurance charges while the remaining 6 variables will be considered the independent variables."
   ]
  },
  {
   "cell_type": "markdown",
   "metadata": {},
   "source": [
    "## Analysis"
   ]
  },
  {
   "cell_type": "markdown",
   "metadata": {},
   "source": [
    "### Descriptive Statistics"
   ]
  },
  {
   "cell_type": "markdown",
   "metadata": {},
   "source": [
    "#### Age"
   ]
  },
  {
   "cell_type": "code",
   "execution_count": null,
   "metadata": {},
   "outputs": [],
   "source": [
    "# Calculating average age of patients in the dataset\n",
    "sum_age = 0\n",
    "for age in age_list:\n",
    "    sum_age += age\n",
    "average_age = sum_age / len(age_list)\n",
    "\n",
    "print('The average age of patients is {} years old.'.format())"
   ]
  }
 ],
 "metadata": {
  "kernelspec": {
   "display_name": "Python 3",
   "language": "python",
   "name": "python3"
  },
  "language_info": {
   "codemirror_mode": {
    "name": "ipython",
    "version": 3
   },
   "file_extension": ".py",
   "mimetype": "text/x-python",
   "name": "python",
   "nbconvert_exporter": "python",
   "pygments_lexer": "ipython3",
   "version": "3.8.5"
  }
 },
 "nbformat": 4,
 "nbformat_minor": 4
}
